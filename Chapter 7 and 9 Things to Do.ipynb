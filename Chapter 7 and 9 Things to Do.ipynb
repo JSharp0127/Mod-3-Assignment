{
 "cells": [
  {
   "cell_type": "code",
   "execution_count": 2,
   "id": "fd219e8b",
   "metadata": {},
   "outputs": [],
   "source": [
    "#7.4\n",
    "things = [\"mozzarella\", \"cinderella\", \"salmonella\"]"
   ]
  },
  {
   "cell_type": "code",
   "execution_count": 6,
   "id": "0a7c7db6",
   "metadata": {},
   "outputs": [
    {
     "name": "stdout",
     "output_type": "stream",
     "text": [
      "['mozzarella', 'Cinderella', 'salmonella']\n"
     ]
    }
   ],
   "source": [
    "#7.5\n",
    "things[1]= \"Cinderella\"\n",
    "print(things)"
   ]
  },
  {
   "cell_type": "markdown",
   "id": "baedccd3",
   "metadata": {},
   "source": [
    "Yes, the element \"Cinderella\" became campitalized."
   ]
  },
  {
   "cell_type": "code",
   "execution_count": 7,
   "id": "e3e4f1c1",
   "metadata": {},
   "outputs": [
    {
     "name": "stdout",
     "output_type": "stream",
     "text": [
      "['MOZZARELLA', 'Cinderella', 'salmonella']\n"
     ]
    }
   ],
   "source": [
    "#7.6\n",
    "things[0] = \"MOZZARELLA\"\n",
    "print(things)"
   ]
  },
  {
   "cell_type": "code",
   "execution_count": 8,
   "id": "3f35e642",
   "metadata": {},
   "outputs": [
    {
     "name": "stdout",
     "output_type": "stream",
     "text": [
      "['MOZZARELLA', 'Cinderella']\n"
     ]
    }
   ],
   "source": [
    "#7.7\n",
    "del things[2]\n",
    "print(things)"
   ]
  },
  {
   "cell_type": "code",
   "execution_count": 10,
   "id": "c6915173",
   "metadata": {},
   "outputs": [
    {
     "name": "stdout",
     "output_type": "stream",
     "text": [
      "['Harry', 'Ron', 'Hermione']\n"
     ]
    }
   ],
   "source": [
    "#9.1\n",
    "def good():\n",
    "    team_harry = [\"Harry\", \"Ron\", \"Hermione\"]\n",
    "    return print(team_harry)\n",
    "good()"
   ]
  },
  {
   "cell_type": "code",
   "execution_count": 33,
   "id": "000450ad",
   "metadata": {},
   "outputs": [
    {
     "name": "stdout",
     "output_type": "stream",
     "text": [
      "5\n"
     ]
    }
   ],
   "source": [
    "#9.2\n",
    "def get_odds():\n",
    "    odds = []\n",
    "    for num in range(10):\n",
    "        if num % 2 == 1:\n",
    "            odds.append(num)\n",
    "    #print(odds)\n",
    "    return(odds)\n",
    "\n",
    "count = 1\n",
    "for num in get_odds():\n",
    "    if count == 3:\n",
    "        print(num)\n",
    "        break\n",
    "    count += 1\n",
    "    \n",
    "    "
   ]
  },
  {
   "cell_type": "code",
   "execution_count": null,
   "id": "99b4e00e",
   "metadata": {},
   "outputs": [],
   "source": []
  }
 ],
 "metadata": {
  "kernelspec": {
   "display_name": "Python 3 (ipykernel)",
   "language": "python",
   "name": "python3"
  },
  "language_info": {
   "codemirror_mode": {
    "name": "ipython",
    "version": 3
   },
   "file_extension": ".py",
   "mimetype": "text/x-python",
   "name": "python",
   "nbconvert_exporter": "python",
   "pygments_lexer": "ipython3",
   "version": "3.11.5"
  }
 },
 "nbformat": 4,
 "nbformat_minor": 5
}
